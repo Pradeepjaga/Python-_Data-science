{
 "cells": [
  {
   "cell_type": "markdown",
   "id": "fc5071cf",
   "metadata": {},
   "source": [
    "## Task-3"
   ]
  },
  {
   "cell_type": "markdown",
   "id": "ed6c51dd",
   "metadata": {},
   "source": [
    "## Question-1"
   ]
  },
  {
   "cell_type": "markdown",
   "id": "75b4d382",
   "metadata": {},
   "source": [
    "### Write a function add_numbers that takes two numbers as arguments and returns their sum"
   ]
  },
  {
   "cell_type": "code",
   "execution_count": 1,
   "id": "ee5eac08",
   "metadata": {},
   "outputs": [],
   "source": [
    "def add_numbers (a,b):\n",
    "    c=a+b\n",
    "    return c"
   ]
  },
  {
   "cell_type": "code",
   "execution_count": 2,
   "id": "82a376ba",
   "metadata": {},
   "outputs": [
    {
     "data": {
      "text/plain": [
       "9"
      ]
     },
     "execution_count": 2,
     "metadata": {},
     "output_type": "execute_result"
    }
   ],
   "source": [
    "add_numbers(4,5)"
   ]
  },
  {
   "cell_type": "markdown",
   "id": "d1169a25",
   "metadata": {},
   "source": [
    "## Question-2"
   ]
  },
  {
   "cell_type": "markdown",
   "id": "98051359",
   "metadata": {},
   "source": [
    "### Write a function multiply_numbers that takes two numbers as arguments and returns their product"
   ]
  },
  {
   "cell_type": "code",
   "execution_count": 3,
   "id": "7a636930",
   "metadata": {},
   "outputs": [],
   "source": [
    "def multiply_numbers(a,b):\n",
    "    c=a*b\n",
    "    return c"
   ]
  },
  {
   "cell_type": "code",
   "execution_count": 4,
   "id": "152ec47c",
   "metadata": {},
   "outputs": [
    {
     "data": {
      "text/plain": [
       "20"
      ]
     },
     "execution_count": 4,
     "metadata": {},
     "output_type": "execute_result"
    }
   ],
   "source": [
    "multiply_numbers(4,5)"
   ]
  },
  {
   "cell_type": "markdown",
   "id": "91312d98",
   "metadata": {},
   "source": [
    "## Question-3"
   ]
  },
  {
   "cell_type": "markdown",
   "id": "a979a03f",
   "metadata": {},
   "source": [
    "### Write a function divide_numbers that takes two numbers as arguments and returns their quotient. Makesure to handle the case where the second number is 0."
   ]
  },
  {
   "cell_type": "code",
   "execution_count": 5,
   "id": "e21546dd",
   "metadata": {},
   "outputs": [],
   "source": [
    "def divide_numbers (a,b):\n",
    "      if b==0:\n",
    "        return \n",
    "      else:\n",
    "            return a/b"
   ]
  },
  {
   "cell_type": "code",
   "execution_count": 6,
   "id": "fc230630",
   "metadata": {},
   "outputs": [
    {
     "name": "stdout",
     "output_type": "stream",
     "text": [
      "5.0\n"
     ]
    }
   ],
   "source": [
    "print(divide_numbers(10,2))"
   ]
  },
  {
   "cell_type": "code",
   "execution_count": 7,
   "id": "e9d661dd",
   "metadata": {},
   "outputs": [
    {
     "name": "stdout",
     "output_type": "stream",
     "text": [
      "None\n"
     ]
    }
   ],
   "source": [
    "print(divide_numbers(2,0))           #cannot divide by 0"
   ]
  },
  {
   "cell_type": "markdown",
   "id": "35b52dc2",
   "metadata": {},
   "source": [
    "## Question-4"
   ]
  },
  {
   "cell_type": "markdown",
   "id": "fda46911",
   "metadata": {},
   "source": [
    "### Write a function calculate_average that takes a list of numbers as an argument and returns their average.\n"
   ]
  },
  {
   "cell_type": "code",
   "execution_count": 8,
   "id": "3c2d570f",
   "metadata": {},
   "outputs": [],
   "source": [
    "pradeep=(1,2,3,4,5,6,7,8)\n",
    "def calculate_average(pradeep):\n",
    "    return sum(pradeep)/len(pradeep)"
   ]
  },
  {
   "cell_type": "code",
   "execution_count": 9,
   "id": "db496180",
   "metadata": {},
   "outputs": [
    {
     "data": {
      "text/plain": [
       "8"
      ]
     },
     "execution_count": 9,
     "metadata": {},
     "output_type": "execute_result"
    }
   ],
   "source": [
    "len(pradeep)"
   ]
  },
  {
   "cell_type": "code",
   "execution_count": 10,
   "id": "3c1e46d1",
   "metadata": {},
   "outputs": [
    {
     "data": {
      "text/plain": [
       "4.5"
      ]
     },
     "execution_count": 10,
     "metadata": {},
     "output_type": "execute_result"
    }
   ],
   "source": [
    "calculate_average(pradeep)"
   ]
  },
  {
   "cell_type": "markdown",
   "id": "921ef3bf",
   "metadata": {},
   "source": [
    "## Question-5"
   ]
  },
  {
   "cell_type": "markdown",
   "id": "419793ae",
   "metadata": {},
   "source": [
    "### Write a function is_prime that takes a number as an argument and returns True if the number is prime andFalse otherwise."
   ]
  },
  {
   "cell_type": "code",
   "execution_count": 11,
   "id": "70a3b986",
   "metadata": {},
   "outputs": [],
   "source": [
    "def is_prime(number):\n",
    "    if number < 2:\n",
    "        return false\n",
    "    else:\n",
    "        for i in range(2,number):\n",
    "            if number % i == 0:\n",
    "                return false\n",
    "        return True"
   ]
  },
  {
   "cell_type": "code",
   "execution_count": 12,
   "id": "0bb8a9b0",
   "metadata": {},
   "outputs": [
    {
     "data": {
      "text/plain": [
       "True"
      ]
     },
     "execution_count": 12,
     "metadata": {},
     "output_type": "execute_result"
    }
   ],
   "source": [
    "is_prime(5)"
   ]
  },
  {
   "cell_type": "markdown",
   "id": "4e3e968f",
   "metadata": {},
   "source": [
    "## oops"
   ]
  },
  {
   "cell_type": "markdown",
   "id": "22a1e084",
   "metadata": {},
   "source": [
    "## Question-1"
   ]
  },
  {
   "cell_type": "markdown",
   "id": "c410ea8b",
   "metadata": {},
   "source": [
    "## Create a class Bank with attributes name and accounts. Add methods add_account, remove_account,and get_total_balance that add an account to the list, remove an account from the list, and return the totalbalance of all accounts, respectively."
   ]
  },
  {
   "cell_type": "code",
   "execution_count": 49,
   "id": "0b9242eb",
   "metadata": {},
   "outputs": [],
   "source": [
    "class Bank:\n",
    "    def __init__(self, name):\n",
    "        self.name = name\n",
    "        self.accounts = []\n",
    "\n",
    "    def add_account(self, account):\n",
    "        self.accounts.append(account)\n",
    "\n",
    "    def remove_account(self, account):\n",
    "        self.accounts.remove(account)\n",
    "\n",
    "    def get_total_balance(self):\n",
    "        total_balance = 0\n",
    "        for account in self.accounts:\n",
    "            total_balance += account.balance\n",
    "        return total_balance\n",
    "\n",
    "\n"
   ]
  },
  {
   "cell_type": "code",
   "execution_count": 50,
   "id": "e7cddd6a",
   "metadata": {},
   "outputs": [],
   "source": [
    "class Account:\n",
    "    def __init__(self, balance):\n",
    "        self.balance = balance"
   ]
  },
  {
   "cell_type": "code",
   "execution_count": 51,
   "id": "da01ca61",
   "metadata": {},
   "outputs": [],
   "source": [
    "\n",
    "bank = Bank(\"My Bank\")\n",
    "account1 = Account(1000)\n",
    "account2 = Account(2000)\n",
    "account3 = Account(3000)\n",
    "bank.add_account(account1)\n",
    "bank.add_account(account2)\n",
    "bank.add_account(account3)"
   ]
  },
  {
   "cell_type": "code",
   "execution_count": 52,
   "id": "dacfb7ee",
   "metadata": {},
   "outputs": [
    {
     "name": "stdout",
     "output_type": "stream",
     "text": [
      "Total Balance: 6000\n"
     ]
    }
   ],
   "source": [
    "total_balance = bank.get_total_balance()\n",
    "print(\"Total Balance:\", total_balance)"
   ]
  },
  {
   "cell_type": "code",
   "execution_count": 53,
   "id": "e87dead0",
   "metadata": {},
   "outputs": [
    {
     "name": "stdout",
     "output_type": "stream",
     "text": [
      "Updated Total Balance: 4000\n"
     ]
    }
   ],
   "source": [
    "\n",
    "bank.remove_account(account2)\n",
    "total_balance = bank.get_total_balance()\n",
    "print(\"Updated Total Balance:\", total_balance)"
   ]
  },
  {
   "cell_type": "code",
   "execution_count": null,
   "id": "4dd87448",
   "metadata": {},
   "outputs": [],
   "source": []
  },
  {
   "cell_type": "code",
   "execution_count": null,
   "id": "7cf91172",
   "metadata": {},
   "outputs": [],
   "source": []
  }
 ],
 "metadata": {
  "kernelspec": {
   "display_name": "Python 3 (ipykernel)",
   "language": "python",
   "name": "python3"
  },
  "language_info": {
   "codemirror_mode": {
    "name": "ipython",
    "version": 3
   },
   "file_extension": ".py",
   "mimetype": "text/x-python",
   "name": "python",
   "nbconvert_exporter": "python",
   "pygments_lexer": "ipython3",
   "version": "3.10.8"
  }
 },
 "nbformat": 4,
 "nbformat_minor": 5
}
