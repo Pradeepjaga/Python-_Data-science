{
 "cells": [
  {
   "cell_type": "markdown",
   "id": "20e94b81",
   "metadata": {},
   "source": [
    "## Task-3"
   ]
  },
  {
   "cell_type": "markdown",
   "id": "81e58af5",
   "metadata": {},
   "source": [
    "## Question-1"
   ]
  },
  {
   "cell_type": "markdown",
   "id": "0b7c38d6",
   "metadata": {},
   "source": [
    "## Create a tuple my_tuple with the values 1, 2, and 3. Print the tuple."
   ]
  },
  {
   "cell_type": "code",
   "execution_count": 1,
   "id": "b76cb1ce",
   "metadata": {},
   "outputs": [],
   "source": [
    "my_tuple=(1,2,3)"
   ]
  },
  {
   "cell_type": "code",
   "execution_count": 2,
   "id": "fbe166c2",
   "metadata": {},
   "outputs": [
    {
     "name": "stdout",
     "output_type": "stream",
     "text": [
      "(1, 2, 3)\n"
     ]
    }
   ],
   "source": [
    "print(my_tuple)"
   ]
  },
  {
   "cell_type": "markdown",
   "id": "b9bfaec5",
   "metadata": {},
   "source": [
    " ## Question-2"
   ]
  },
  {
   "cell_type": "markdown",
   "id": "8b6b2660",
   "metadata": {},
   "source": [
    "## Create a set my_set with the values 1, 2, and 3. Print the set."
   ]
  },
  {
   "cell_type": "code",
   "execution_count": 3,
   "id": "118c5cb4",
   "metadata": {},
   "outputs": [],
   "source": [
    "my_set={1,2,3}"
   ]
  },
  {
   "cell_type": "code",
   "execution_count": 4,
   "id": "e96c33a3",
   "metadata": {},
   "outputs": [
    {
     "name": "stdout",
     "output_type": "stream",
     "text": [
      "The values of {1, 2, 3}\n"
     ]
    }
   ],
   "source": [
    "print(f\"The values of { my_set}\")"
   ]
  },
  {
   "cell_type": "markdown",
   "id": "da0c551a",
   "metadata": {},
   "source": [
    "## Question-3"
   ]
  },
  {
   "cell_type": "markdown",
   "id": "ef620c07",
   "metadata": {},
   "source": [
    "## Create a dictionary my_dict with keys \"apple\", \"banana\", and \"cherry\" and values 1, 2, and 3. Print thedictionary."
   ]
  },
  {
   "cell_type": "code",
   "execution_count": 5,
   "id": "c21b36b8",
   "metadata": {},
   "outputs": [],
   "source": [
    "my_dict={'apple':1,'banana':2,'cherry':3,}"
   ]
  },
  {
   "cell_type": "code",
   "execution_count": 6,
   "id": "9cd4f27f",
   "metadata": {},
   "outputs": [
    {
     "name": "stdout",
     "output_type": "stream",
     "text": [
      "{'apple': 1, 'banana': 2, 'cherry': 3}\n"
     ]
    }
   ],
   "source": [
    "print(my_dict)"
   ]
  },
  {
   "cell_type": "markdown",
   "id": "21b1b5a1",
   "metadata": {},
   "source": [
    "## Question-4"
   ]
  },
  {
   "cell_type": "markdown",
   "id": "79c987d9",
   "metadata": {},
   "source": [
    "## Use a for loop to print the values in my_tuple one by one."
   ]
  },
  {
   "cell_type": "code",
   "execution_count": 7,
   "id": "0f63761b",
   "metadata": {},
   "outputs": [
    {
     "name": "stdout",
     "output_type": "stream",
     "text": [
      "1\n",
      "2\n",
      "3\n"
     ]
    }
   ],
   "source": [
    "for i in my_tuple:\n",
    "    print(i)"
   ]
  },
  {
   "cell_type": "markdown",
   "id": "0c2b1d77",
   "metadata": {},
   "source": [
    "## Question-5"
   ]
  },
  {
   "cell_type": "markdown",
   "id": "a8e33165",
   "metadata": {},
   "source": [
    "## Use a for loop to print the values in my_set one by one."
   ]
  },
  {
   "cell_type": "code",
   "execution_count": 8,
   "id": "dffdefb4",
   "metadata": {},
   "outputs": [
    {
     "name": "stdout",
     "output_type": "stream",
     "text": [
      "1\n",
      "2\n",
      "3\n"
     ]
    }
   ],
   "source": [
    "for i in my_set:\n",
    "    print(i)"
   ]
  },
  {
   "cell_type": "markdown",
   "id": "f9b0b29c",
   "metadata": {},
   "source": [
    "## Question-6"
   ]
  },
  {
   "cell_type": "markdown",
   "id": "4813433b",
   "metadata": {},
   "source": [
    "\n",
    "## Use a for loop to print the keys and values in my_dict one by one."
   ]
  },
  {
   "cell_type": "code",
   "execution_count": 9,
   "id": "65a82af2",
   "metadata": {},
   "outputs": [
    {
     "name": "stdout",
     "output_type": "stream",
     "text": [
      "apple\n",
      "banana\n",
      "cherry\n"
     ]
    }
   ],
   "source": [
    "for i in my_dict:\n",
    "    print(i)"
   ]
  },
  {
   "cell_type": "markdown",
   "id": "0667038b",
   "metadata": {},
   "source": [
    "## Question-7"
   ]
  },
  {
   "cell_type": "markdown",
   "id": "89e49af1",
   "metadata": {},
   "source": [
    "## Use a while loop to print the numbers from 1 to 10."
   ]
  },
  {
   "cell_type": "code",
   "execution_count": 10,
   "id": "c4833e03",
   "metadata": {},
   "outputs": [],
   "source": [
    "i=1"
   ]
  },
  {
   "cell_type": "code",
   "execution_count": 11,
   "id": "92f4fc2f",
   "metadata": {},
   "outputs": [
    {
     "name": "stdout",
     "output_type": "stream",
     "text": [
      "1\n",
      "2\n",
      "3\n",
      "4\n",
      "5\n",
      "6\n",
      "7\n",
      "8\n",
      "9\n",
      "10\n"
     ]
    }
   ],
   "source": [
    "while i<11:\n",
    "    print(i)\n",
    "    i=i+1"
   ]
  },
  {
   "cell_type": "markdown",
   "id": "586b227d",
   "metadata": {},
   "source": [
    "## Question-8"
   ]
  },
  {
   "cell_type": "markdown",
   "id": "76fbddd6",
   "metadata": {},
   "source": [
    "## Use a while loop to print the even numbers from 2 to 10."
   ]
  },
  {
   "cell_type": "code",
   "execution_count": 12,
   "id": "b1be90de",
   "metadata": {},
   "outputs": [],
   "source": [
    "c=0"
   ]
  },
  {
   "cell_type": "code",
   "execution_count": 13,
   "id": "d7f806ab",
   "metadata": {},
   "outputs": [
    {
     "name": "stdout",
     "output_type": "stream",
     "text": [
      "2\n",
      "4\n",
      "6\n",
      "8\n",
      "10\n"
     ]
    }
   ],
   "source": [
    "while c<10:\n",
    "    c=c+2\n",
    "    print(c)\n",
    "    "
   ]
  },
  {
   "cell_type": "markdown",
   "id": "5653e4c4",
   "metadata": {},
   "source": [
    "## Question-9"
   ]
  },
  {
   "cell_type": "markdown",
   "id": "f1b94a06",
   "metadata": {},
   "source": [
    "## Use a while loop to print the squares of the numbers from 1 to 5."
   ]
  },
  {
   "cell_type": "code",
   "execution_count": 16,
   "id": "71462436",
   "metadata": {},
   "outputs": [
    {
     "name": "stdout",
     "output_type": "stream",
     "text": [
      "1\n",
      "4\n",
      "9\n",
      "16\n",
      "25\n"
     ]
    }
   ],
   "source": [
    "i=1\n",
    "while i<=5:\n",
    "    print(i**2)\n",
    "    i=i+1"
   ]
  },
  {
   "cell_type": "markdown",
   "id": "feaad7ed",
   "metadata": {},
   "source": [
    "## Question-10"
   ]
  },
  {
   "cell_type": "markdown",
   "id": "084e8102",
   "metadata": {},
   "source": [
    "## use a for loop to print the sum of the numbers in my_tuple."
   ]
  },
  {
   "cell_type": "code",
   "execution_count": 17,
   "id": "51ef8e9c",
   "metadata": {},
   "outputs": [
    {
     "name": "stdout",
     "output_type": "stream",
     "text": [
      "2\n",
      "3\n",
      "4\n",
      "5\n",
      "6\n"
     ]
    }
   ],
   "source": [
    "my_tuple=(1,2,3,4,5)\n",
    "sum=1\n",
    "for i in my_tuple:\n",
    "    print(i+sum)"
   ]
  },
  {
   "cell_type": "code",
   "execution_count": null,
   "id": "14825102",
   "metadata": {},
   "outputs": [],
   "source": []
  }
 ],
 "metadata": {
  "kernelspec": {
   "display_name": "Python 3 (ipykernel)",
   "language": "python",
   "name": "python3"
  },
  "language_info": {
   "codemirror_mode": {
    "name": "ipython",
    "version": 3
   },
   "file_extension": ".py",
   "mimetype": "text/x-python",
   "name": "python",
   "nbconvert_exporter": "python",
   "pygments_lexer": "ipython3",
   "version": "3.10.8"
  }
 },
 "nbformat": 4,
 "nbformat_minor": 5
}
