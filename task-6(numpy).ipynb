{
 "cells": [
  {
   "cell_type": "markdown",
   "id": "f8b744ea",
   "metadata": {},
   "source": [
    "## Task-6"
   ]
  },
  {
   "cell_type": "markdown",
   "id": "8d76f8f2",
   "metadata": {},
   "source": [
    "## Question-1"
   ]
  },
  {
   "cell_type": "markdown",
   "id": "78c55d09",
   "metadata": {},
   "source": [
    "##  Import the NumPy library and create a 2D array data from the given data in the table above."
   ]
  },
  {
   "cell_type": "code",
   "execution_count": 1,
   "id": "80826fa3",
   "metadata": {},
   "outputs": [],
   "source": [
    "import pandas as pd\n",
    "import numpy as np"
   ]
  },
  {
   "cell_type": "code",
   "execution_count": 3,
   "id": "b1c18ac0",
   "metadata": {},
   "outputs": [],
   "source": [
    "data= pd.read_csv(\"G:\\DS_note\\padas_question.csv\")"
   ]
  },
  {
   "cell_type": "code",
   "execution_count": 4,
   "id": "bef25def",
   "metadata": {},
   "outputs": [
    {
     "data": {
      "text/html": [
       "<div>\n",
       "<style scoped>\n",
       "    .dataframe tbody tr th:only-of-type {\n",
       "        vertical-align: middle;\n",
       "    }\n",
       "\n",
       "    .dataframe tbody tr th {\n",
       "        vertical-align: top;\n",
       "    }\n",
       "\n",
       "    .dataframe thead th {\n",
       "        text-align: right;\n",
       "    }\n",
       "</style>\n",
       "<table border=\"1\" class=\"dataframe\">\n",
       "  <thead>\n",
       "    <tr style=\"text-align: right;\">\n",
       "      <th></th>\n",
       "      <th>Name</th>\n",
       "      <th>Gender</th>\n",
       "      <th>Age</th>\n",
       "      <th>Height (cm)</th>\n",
       "      <th>Weight (kg)</th>\n",
       "      <th>City</th>\n",
       "    </tr>\n",
       "  </thead>\n",
       "  <tbody>\n",
       "    <tr>\n",
       "      <th>0</th>\n",
       "      <td>Alice</td>\n",
       "      <td>Female</td>\n",
       "      <td>25</td>\n",
       "      <td>165</td>\n",
       "      <td>58</td>\n",
       "      <td>New York</td>\n",
       "    </tr>\n",
       "    <tr>\n",
       "      <th>1</th>\n",
       "      <td>Bob</td>\n",
       "      <td>Male</td>\n",
       "      <td>30</td>\n",
       "      <td>180</td>\n",
       "      <td>80</td>\n",
       "      <td>Los Angeles</td>\n",
       "    </tr>\n",
       "    <tr>\n",
       "      <th>2</th>\n",
       "      <td>Charlie</td>\n",
       "      <td>Male</td>\n",
       "      <td>35</td>\n",
       "      <td>175</td>\n",
       "      <td>70</td>\n",
       "      <td>Chicago</td>\n",
       "    </tr>\n",
       "    <tr>\n",
       "      <th>3</th>\n",
       "      <td>Diana</td>\n",
       "      <td>Female</td>\n",
       "      <td>28</td>\n",
       "      <td>170</td>\n",
       "      <td>65</td>\n",
       "      <td>Miami</td>\n",
       "    </tr>\n",
       "    <tr>\n",
       "      <th>4</th>\n",
       "      <td>Eva</td>\n",
       "      <td>Female</td>\n",
       "      <td>27</td>\n",
       "      <td>175</td>\n",
       "      <td>60</td>\n",
       "      <td>New York</td>\n",
       "    </tr>\n",
       "    <tr>\n",
       "      <th>5</th>\n",
       "      <td>Frank</td>\n",
       "      <td>Male</td>\n",
       "      <td>40</td>\n",
       "      <td>190</td>\n",
       "      <td>85</td>\n",
       "      <td>Houston</td>\n",
       "    </tr>\n",
       "    <tr>\n",
       "      <th>6</th>\n",
       "      <td>Grace</td>\n",
       "      <td>Female</td>\n",
       "      <td>32</td>\n",
       "      <td>168</td>\n",
       "      <td>55</td>\n",
       "      <td>Chicago</td>\n",
       "    </tr>\n",
       "    <tr>\n",
       "      <th>7</th>\n",
       "      <td>Henry</td>\n",
       "      <td>Male</td>\n",
       "      <td>45</td>\n",
       "      <td>175</td>\n",
       "      <td>75</td>\n",
       "      <td>Los Angeles</td>\n",
       "    </tr>\n",
       "    <tr>\n",
       "      <th>8</th>\n",
       "      <td>Ivy</td>\n",
       "      <td>Female</td>\n",
       "      <td>26</td>\n",
       "      <td>172</td>\n",
       "      <td>63</td>\n",
       "      <td>Miami</td>\n",
       "    </tr>\n",
       "    <tr>\n",
       "      <th>9</th>\n",
       "      <td>Jack</td>\n",
       "      <td>Male</td>\n",
       "      <td>28</td>\n",
       "      <td>180</td>\n",
       "      <td>78</td>\n",
       "      <td>New York</td>\n",
       "    </tr>\n",
       "  </tbody>\n",
       "</table>\n",
       "</div>"
      ],
      "text/plain": [
       "      Name  Gender  Age  Height (cm)  Weight (kg)         City\n",
       "0    Alice  Female   25          165           58     New York\n",
       "1      Bob    Male   30          180           80  Los Angeles\n",
       "2  Charlie    Male   35          175           70      Chicago\n",
       "3    Diana  Female   28          170           65        Miami\n",
       "4      Eva  Female   27          175           60     New York\n",
       "5    Frank    Male   40          190           85      Houston\n",
       "6    Grace  Female   32          168           55      Chicago\n",
       "7    Henry    Male   45          175           75  Los Angeles\n",
       "8      Ivy  Female   26          172           63        Miami\n",
       "9     Jack    Male   28          180           78     New York"
      ]
     },
     "execution_count": 4,
     "metadata": {},
     "output_type": "execute_result"
    }
   ],
   "source": [
    "data"
   ]
  },
  {
   "cell_type": "code",
   "execution_count": 5,
   "id": "c8e9f1c7",
   "metadata": {},
   "outputs": [],
   "source": [
    "arr = np.array(data)"
   ]
  },
  {
   "cell_type": "code",
   "execution_count": 6,
   "id": "25bc3de8",
   "metadata": {},
   "outputs": [
    {
     "data": {
      "text/plain": [
       "array([['Alice', 'Female', 25, 165, 58, 'New York'],\n",
       "       ['Bob', 'Male', 30, 180, 80, 'Los Angeles'],\n",
       "       ['Charlie', 'Male', 35, 175, 70, 'Chicago'],\n",
       "       ['Diana', 'Female', 28, 170, 65, 'Miami'],\n",
       "       ['Eva', 'Female', 27, 175, 60, 'New York'],\n",
       "       ['Frank', 'Male', 40, 190, 85, 'Houston'],\n",
       "       ['Grace', 'Female', 32, 168, 55, 'Chicago'],\n",
       "       ['Henry', 'Male', 45, 175, 75, 'Los Angeles'],\n",
       "       ['Ivy', 'Female', 26, 172, 63, 'Miami'],\n",
       "       ['Jack', 'Male', 28, 180, 78, 'New York']], dtype=object)"
      ]
     },
     "execution_count": 6,
     "metadata": {},
     "output_type": "execute_result"
    }
   ],
   "source": [
    "arr"
   ]
  },
  {
   "cell_type": "markdown",
   "id": "cafc4b20",
   "metadata": {},
   "source": [
    "## Question-2"
   ]
  },
  {
   "cell_type": "markdown",
   "id": "493eec31",
   "metadata": {},
   "source": [
    "## Print the shape of the data array."
   ]
  },
  {
   "cell_type": "code",
   "execution_count": 7,
   "id": "3a8ce75f",
   "metadata": {},
   "outputs": [
    {
     "data": {
      "text/plain": [
       "(10, 6)"
      ]
     },
     "execution_count": 7,
     "metadata": {},
     "output_type": "execute_result"
    }
   ],
   "source": [
    "data.shape"
   ]
  },
  {
   "cell_type": "markdown",
   "id": "3162fb49",
   "metadata": {},
   "source": [
    "## Question-3"
   ]
  },
  {
   "cell_type": "markdown",
   "id": "aff8b541",
   "metadata": {},
   "source": [
    "## Extract the column of heights from the data array and assign it to a new variable heights."
   ]
  },
  {
   "cell_type": "code",
   "execution_count": 13,
   "id": "5e5eab1e",
   "metadata": {},
   "outputs": [],
   "source": [
    "heights = arr[:, 3]"
   ]
  },
  {
   "cell_type": "code",
   "execution_count": 14,
   "id": "14cd904e",
   "metadata": {},
   "outputs": [
    {
     "name": "stdout",
     "output_type": "stream",
     "text": [
      "[165 180 175 170 175 190 168 175 172 180]\n"
     ]
    }
   ],
   "source": [
    "print(heights)"
   ]
  },
  {
   "cell_type": "markdown",
   "id": "5e075e84",
   "metadata": {},
   "source": [
    "## Question-4 "
   ]
  },
  {
   "cell_type": "markdown",
   "id": "27fe34a3",
   "metadata": {},
   "source": [
    "## Calculate the mean height of the group using NumPy."
   ]
  },
  {
   "cell_type": "code",
   "execution_count": 16,
   "id": "1396b0af",
   "metadata": {},
   "outputs": [
    {
     "data": {
      "text/plain": [
       "175.0"
      ]
     },
     "execution_count": 16,
     "metadata": {},
     "output_type": "execute_result"
    }
   ],
   "source": [
    "np.mean(heights)"
   ]
  },
  {
   "cell_type": "markdown",
   "id": "8630e6a6",
   "metadata": {},
   "source": [
    "## Question-5"
   ]
  },
  {
   "cell_type": "markdown",
   "id": "c3eb8b55",
   "metadata": {},
   "source": [
    "## Extract the rows of females from the data array and assign it to a new variable females."
   ]
  },
  {
   "cell_type": "code",
   "execution_count": 19,
   "id": "3a204131",
   "metadata": {},
   "outputs": [],
   "source": [
    "females = arr[arr[:, 1] == 'Female']"
   ]
  },
  {
   "cell_type": "code",
   "execution_count": 20,
   "id": "40fc7e31",
   "metadata": {},
   "outputs": [
    {
     "name": "stdout",
     "output_type": "stream",
     "text": [
      "[['Alice' 'Female' 25 165 58 'New York']\n",
      " ['Diana' 'Female' 28 170 65 'Miami']\n",
      " ['Eva' 'Female' 27 175 60 'New York']\n",
      " ['Grace' 'Female' 32 168 55 'Chicago']\n",
      " ['Ivy' 'Female' 26 172 63 'Miami']]\n"
     ]
    }
   ],
   "source": [
    "print(females)"
   ]
  },
  {
   "cell_type": "markdown",
   "id": "041f55ee",
   "metadata": {},
   "source": [
    "## Question-6"
   ]
  },
  {
   "cell_type": "markdown",
   "id": "c3f9ce34",
   "metadata": {},
   "source": [
    "## Calculate the mean weight of the females in the group using NumPy."
   ]
  },
  {
   "cell_type": "code",
   "execution_count": 22,
   "id": "4b4de08a",
   "metadata": {},
   "outputs": [],
   "source": [
    "Weight=females[:,4]"
   ]
  },
  {
   "cell_type": "code",
   "execution_count": 23,
   "id": "0e635cb0",
   "metadata": {},
   "outputs": [
    {
     "data": {
      "text/plain": [
       "array([58, 65, 60, 55, 63], dtype=object)"
      ]
     },
     "execution_count": 23,
     "metadata": {},
     "output_type": "execute_result"
    }
   ],
   "source": [
    "Weight"
   ]
  },
  {
   "cell_type": "code",
   "execution_count": 24,
   "id": "563bedd8",
   "metadata": {},
   "outputs": [
    {
     "data": {
      "text/plain": [
       "60.2"
      ]
     },
     "execution_count": 24,
     "metadata": {},
     "output_type": "execute_result"
    }
   ],
   "source": [
    "np.mean(Weight)"
   ]
  },
  {
   "cell_type": "code",
   "execution_count": null,
   "id": "69436309",
   "metadata": {},
   "outputs": [],
   "source": []
  }
 ],
 "metadata": {
  "kernelspec": {
   "display_name": "Python 3 (ipykernel)",
   "language": "python",
   "name": "python3"
  },
  "language_info": {
   "codemirror_mode": {
    "name": "ipython",
    "version": 3
   },
   "file_extension": ".py",
   "mimetype": "text/x-python",
   "name": "python",
   "nbconvert_exporter": "python",
   "pygments_lexer": "ipython3",
   "version": "3.10.8"
  }
 },
 "nbformat": 4,
 "nbformat_minor": 5
}
