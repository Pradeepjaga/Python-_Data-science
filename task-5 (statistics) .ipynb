{
 "cells": [
  {
   "cell_type": "markdown",
   "id": "e850b706",
   "metadata": {},
   "source": [
    "## task-5"
   ]
  },
  {
   "cell_type": "markdown",
   "id": "c232ff1e",
   "metadata": {},
   "source": [
    "## Import pandas and read the data into a DataFrame. Print the first 5 rows of the DataFrame."
   ]
  },
  {
   "cell_type": "code",
   "execution_count": 1,
   "id": "ee67304a",
   "metadata": {},
   "outputs": [],
   "source": [
    "import pandas as pd\n",
    "import warnings\n",
    "warnings.filterwarnings (\"ignore\")"
   ]
  },
  {
   "cell_type": "code",
   "execution_count": 2,
   "id": "cdd48edb",
   "metadata": {},
   "outputs": [],
   "source": [
    "data=pd.read_csv(\"G:\\DS_note\\padas_question.csv\")"
   ]
  },
  {
   "cell_type": "code",
   "execution_count": 3,
   "id": "a0dfc9e7",
   "metadata": {},
   "outputs": [
    {
     "data": {
      "text/html": [
       "<div>\n",
       "<style scoped>\n",
       "    .dataframe tbody tr th:only-of-type {\n",
       "        vertical-align: middle;\n",
       "    }\n",
       "\n",
       "    .dataframe tbody tr th {\n",
       "        vertical-align: top;\n",
       "    }\n",
       "\n",
       "    .dataframe thead th {\n",
       "        text-align: right;\n",
       "    }\n",
       "</style>\n",
       "<table border=\"1\" class=\"dataframe\">\n",
       "  <thead>\n",
       "    <tr style=\"text-align: right;\">\n",
       "      <th></th>\n",
       "      <th>Name</th>\n",
       "      <th>Gender</th>\n",
       "      <th>Age</th>\n",
       "      <th>Height (cm)</th>\n",
       "      <th>Weight (kg)</th>\n",
       "      <th>City</th>\n",
       "    </tr>\n",
       "  </thead>\n",
       "  <tbody>\n",
       "    <tr>\n",
       "      <th>0</th>\n",
       "      <td>Alice</td>\n",
       "      <td>Female</td>\n",
       "      <td>25</td>\n",
       "      <td>165</td>\n",
       "      <td>58</td>\n",
       "      <td>New York</td>\n",
       "    </tr>\n",
       "    <tr>\n",
       "      <th>1</th>\n",
       "      <td>Bob</td>\n",
       "      <td>Male</td>\n",
       "      <td>30</td>\n",
       "      <td>180</td>\n",
       "      <td>80</td>\n",
       "      <td>Los Angeles</td>\n",
       "    </tr>\n",
       "    <tr>\n",
       "      <th>2</th>\n",
       "      <td>Charlie</td>\n",
       "      <td>Male</td>\n",
       "      <td>35</td>\n",
       "      <td>175</td>\n",
       "      <td>70</td>\n",
       "      <td>Chicago</td>\n",
       "    </tr>\n",
       "    <tr>\n",
       "      <th>3</th>\n",
       "      <td>Diana</td>\n",
       "      <td>Female</td>\n",
       "      <td>28</td>\n",
       "      <td>170</td>\n",
       "      <td>65</td>\n",
       "      <td>Miami</td>\n",
       "    </tr>\n",
       "    <tr>\n",
       "      <th>4</th>\n",
       "      <td>Eva</td>\n",
       "      <td>Female</td>\n",
       "      <td>27</td>\n",
       "      <td>175</td>\n",
       "      <td>60</td>\n",
       "      <td>New York</td>\n",
       "    </tr>\n",
       "    <tr>\n",
       "      <th>5</th>\n",
       "      <td>Frank</td>\n",
       "      <td>Male</td>\n",
       "      <td>40</td>\n",
       "      <td>190</td>\n",
       "      <td>85</td>\n",
       "      <td>Houston</td>\n",
       "    </tr>\n",
       "    <tr>\n",
       "      <th>6</th>\n",
       "      <td>Grace</td>\n",
       "      <td>Female</td>\n",
       "      <td>32</td>\n",
       "      <td>168</td>\n",
       "      <td>55</td>\n",
       "      <td>Chicago</td>\n",
       "    </tr>\n",
       "    <tr>\n",
       "      <th>7</th>\n",
       "      <td>Henry</td>\n",
       "      <td>Male</td>\n",
       "      <td>45</td>\n",
       "      <td>175</td>\n",
       "      <td>75</td>\n",
       "      <td>Los Angeles</td>\n",
       "    </tr>\n",
       "    <tr>\n",
       "      <th>8</th>\n",
       "      <td>Ivy</td>\n",
       "      <td>Female</td>\n",
       "      <td>26</td>\n",
       "      <td>172</td>\n",
       "      <td>63</td>\n",
       "      <td>Miami</td>\n",
       "    </tr>\n",
       "    <tr>\n",
       "      <th>9</th>\n",
       "      <td>Jack</td>\n",
       "      <td>Male</td>\n",
       "      <td>28</td>\n",
       "      <td>180</td>\n",
       "      <td>78</td>\n",
       "      <td>New York</td>\n",
       "    </tr>\n",
       "  </tbody>\n",
       "</table>\n",
       "</div>"
      ],
      "text/plain": [
       "      Name  Gender  Age  Height (cm)  Weight (kg)         City\n",
       "0    Alice  Female   25          165           58     New York\n",
       "1      Bob    Male   30          180           80  Los Angeles\n",
       "2  Charlie    Male   35          175           70      Chicago\n",
       "3    Diana  Female   28          170           65        Miami\n",
       "4      Eva  Female   27          175           60     New York\n",
       "5    Frank    Male   40          190           85      Houston\n",
       "6    Grace  Female   32          168           55      Chicago\n",
       "7    Henry    Male   45          175           75  Los Angeles\n",
       "8      Ivy  Female   26          172           63        Miami\n",
       "9     Jack    Male   28          180           78     New York"
      ]
     },
     "execution_count": 3,
     "metadata": {},
     "output_type": "execute_result"
    }
   ],
   "source": [
    "data"
   ]
  },
  {
   "cell_type": "code",
   "execution_count": 4,
   "id": "53c176ff",
   "metadata": {},
   "outputs": [
    {
     "data": {
      "text/html": [
       "<div>\n",
       "<style scoped>\n",
       "    .dataframe tbody tr th:only-of-type {\n",
       "        vertical-align: middle;\n",
       "    }\n",
       "\n",
       "    .dataframe tbody tr th {\n",
       "        vertical-align: top;\n",
       "    }\n",
       "\n",
       "    .dataframe thead th {\n",
       "        text-align: right;\n",
       "    }\n",
       "</style>\n",
       "<table border=\"1\" class=\"dataframe\">\n",
       "  <thead>\n",
       "    <tr style=\"text-align: right;\">\n",
       "      <th></th>\n",
       "      <th>Name</th>\n",
       "      <th>Gender</th>\n",
       "      <th>Age</th>\n",
       "      <th>Height (cm)</th>\n",
       "      <th>Weight (kg)</th>\n",
       "      <th>City</th>\n",
       "    </tr>\n",
       "  </thead>\n",
       "  <tbody>\n",
       "    <tr>\n",
       "      <th>0</th>\n",
       "      <td>Alice</td>\n",
       "      <td>Female</td>\n",
       "      <td>25</td>\n",
       "      <td>165</td>\n",
       "      <td>58</td>\n",
       "      <td>New York</td>\n",
       "    </tr>\n",
       "    <tr>\n",
       "      <th>1</th>\n",
       "      <td>Bob</td>\n",
       "      <td>Male</td>\n",
       "      <td>30</td>\n",
       "      <td>180</td>\n",
       "      <td>80</td>\n",
       "      <td>Los Angeles</td>\n",
       "    </tr>\n",
       "    <tr>\n",
       "      <th>2</th>\n",
       "      <td>Charlie</td>\n",
       "      <td>Male</td>\n",
       "      <td>35</td>\n",
       "      <td>175</td>\n",
       "      <td>70</td>\n",
       "      <td>Chicago</td>\n",
       "    </tr>\n",
       "    <tr>\n",
       "      <th>3</th>\n",
       "      <td>Diana</td>\n",
       "      <td>Female</td>\n",
       "      <td>28</td>\n",
       "      <td>170</td>\n",
       "      <td>65</td>\n",
       "      <td>Miami</td>\n",
       "    </tr>\n",
       "    <tr>\n",
       "      <th>4</th>\n",
       "      <td>Eva</td>\n",
       "      <td>Female</td>\n",
       "      <td>27</td>\n",
       "      <td>175</td>\n",
       "      <td>60</td>\n",
       "      <td>New York</td>\n",
       "    </tr>\n",
       "  </tbody>\n",
       "</table>\n",
       "</div>"
      ],
      "text/plain": [
       "      Name  Gender  Age  Height (cm)  Weight (kg)         City\n",
       "0    Alice  Female   25          165           58     New York\n",
       "1      Bob    Male   30          180           80  Los Angeles\n",
       "2  Charlie    Male   35          175           70      Chicago\n",
       "3    Diana  Female   28          170           65        Miami\n",
       "4      Eva  Female   27          175           60     New York"
      ]
     },
     "execution_count": 4,
     "metadata": {},
     "output_type": "execute_result"
    }
   ],
   "source": [
    "data.head(5)"
   ]
  },
  {
   "cell_type": "markdown",
   "id": "d00c7ff4",
   "metadata": {},
   "source": [
    "## Question-2"
   ]
  },
  {
   "cell_type": "markdown",
   "id": "ba23330c",
   "metadata": {},
   "source": [
    "## Print the number of rows and columns in the DataFrame."
   ]
  },
  {
   "cell_type": "code",
   "execution_count": 5,
   "id": "efc0d94b",
   "metadata": {},
   "outputs": [
    {
     "data": {
      "text/plain": [
       "(10, 6)"
      ]
     },
     "execution_count": 5,
     "metadata": {},
     "output_type": "execute_result"
    }
   ],
   "source": [
    "data.shape"
   ]
  },
  {
   "cell_type": "markdown",
   "id": "bd1e9a00",
   "metadata": {},
   "source": [
    "## Question-3"
   ]
  },
  {
   "cell_type": "markdown",
   "id": "53caec74",
   "metadata": {},
   "source": [
    "## Print the null value count"
   ]
  },
  {
   "cell_type": "code",
   "execution_count": 6,
   "id": "530011fa",
   "metadata": {},
   "outputs": [
    {
     "data": {
      "text/plain": [
       "Name           10\n",
       "Gender         10\n",
       "Age            10\n",
       "Height (cm)    10\n",
       "Weight (kg)    10\n",
       "City           10\n",
       "dtype: int64"
      ]
     },
     "execution_count": 6,
     "metadata": {},
     "output_type": "execute_result"
    }
   ],
   "source": [
    "data.isnull().count()"
   ]
  },
  {
   "cell_type": "markdown",
   "id": "56d6510c",
   "metadata": {},
   "source": [
    "## Question-4"
   ]
  },
  {
   "cell_type": "markdown",
   "id": "4a610709",
   "metadata": {},
   "source": [
    "##  Print the average age, height, and weight of the people in the DataFrame."
   ]
  },
  {
   "cell_type": "code",
   "execution_count": 7,
   "id": "b3cb2514",
   "metadata": {},
   "outputs": [
    {
     "data": {
      "text/html": [
       "<div>\n",
       "<style scoped>\n",
       "    .dataframe tbody tr th:only-of-type {\n",
       "        vertical-align: middle;\n",
       "    }\n",
       "\n",
       "    .dataframe tbody tr th {\n",
       "        vertical-align: top;\n",
       "    }\n",
       "\n",
       "    .dataframe thead th {\n",
       "        text-align: right;\n",
       "    }\n",
       "</style>\n",
       "<table border=\"1\" class=\"dataframe\">\n",
       "  <thead>\n",
       "    <tr style=\"text-align: right;\">\n",
       "      <th></th>\n",
       "      <th>Age</th>\n",
       "      <th>Height (cm)</th>\n",
       "      <th>Weight (kg)</th>\n",
       "    </tr>\n",
       "  </thead>\n",
       "  <tbody>\n",
       "    <tr>\n",
       "      <th>count</th>\n",
       "      <td>10.000000</td>\n",
       "      <td>10.000000</td>\n",
       "      <td>10.000000</td>\n",
       "    </tr>\n",
       "    <tr>\n",
       "      <th>mean</th>\n",
       "      <td>31.600000</td>\n",
       "      <td>175.000000</td>\n",
       "      <td>68.900000</td>\n",
       "    </tr>\n",
       "    <tr>\n",
       "      <th>std</th>\n",
       "      <td>6.552353</td>\n",
       "      <td>7.133645</td>\n",
       "      <td>10.246409</td>\n",
       "    </tr>\n",
       "    <tr>\n",
       "      <th>min</th>\n",
       "      <td>25.000000</td>\n",
       "      <td>165.000000</td>\n",
       "      <td>55.000000</td>\n",
       "    </tr>\n",
       "    <tr>\n",
       "      <th>25%</th>\n",
       "      <td>27.250000</td>\n",
       "      <td>170.500000</td>\n",
       "      <td>60.750000</td>\n",
       "    </tr>\n",
       "    <tr>\n",
       "      <th>50%</th>\n",
       "      <td>29.000000</td>\n",
       "      <td>175.000000</td>\n",
       "      <td>67.500000</td>\n",
       "    </tr>\n",
       "    <tr>\n",
       "      <th>75%</th>\n",
       "      <td>34.250000</td>\n",
       "      <td>178.750000</td>\n",
       "      <td>77.250000</td>\n",
       "    </tr>\n",
       "    <tr>\n",
       "      <th>max</th>\n",
       "      <td>45.000000</td>\n",
       "      <td>190.000000</td>\n",
       "      <td>85.000000</td>\n",
       "    </tr>\n",
       "  </tbody>\n",
       "</table>\n",
       "</div>"
      ],
      "text/plain": [
       "             Age  Height (cm)  Weight (kg)\n",
       "count  10.000000    10.000000    10.000000\n",
       "mean   31.600000   175.000000    68.900000\n",
       "std     6.552353     7.133645    10.246409\n",
       "min    25.000000   165.000000    55.000000\n",
       "25%    27.250000   170.500000    60.750000\n",
       "50%    29.000000   175.000000    67.500000\n",
       "75%    34.250000   178.750000    77.250000\n",
       "max    45.000000   190.000000    85.000000"
      ]
     },
     "execution_count": 7,
     "metadata": {},
     "output_type": "execute_result"
    }
   ],
   "source": [
    "data.describe()"
   ]
  },
  {
   "cell_type": "code",
   "execution_count": 8,
   "id": "e934f0bd",
   "metadata": {},
   "outputs": [
    {
     "data": {
      "text/plain": [
       "31.6"
      ]
     },
     "execution_count": 8,
     "metadata": {},
     "output_type": "execute_result"
    }
   ],
   "source": [
    "data['Age'].mean()"
   ]
  },
  {
   "cell_type": "code",
   "execution_count": 9,
   "id": "98c56ad0",
   "metadata": {},
   "outputs": [
    {
     "data": {
      "text/plain": [
       "175.0"
      ]
     },
     "execution_count": 9,
     "metadata": {},
     "output_type": "execute_result"
    }
   ],
   "source": [
    "data['Height (cm)'].mean()"
   ]
  },
  {
   "cell_type": "code",
   "execution_count": 10,
   "id": "ff4d11df",
   "metadata": {},
   "outputs": [
    {
     "data": {
      "text/plain": [
       "68.9"
      ]
     },
     "execution_count": 10,
     "metadata": {},
     "output_type": "execute_result"
    }
   ],
   "source": [
    "data['Weight (kg)'].mean()"
   ]
  },
  {
   "cell_type": "markdown",
   "id": "836d6a9f",
   "metadata": {},
   "source": [
    "## Question-5"
   ]
  },
  {
   "cell_type": "markdown",
   "id": "4ae87c30",
   "metadata": {},
   "source": [
    "## Print the name and city of the person who is the tallest in the DataFrame.\n"
   ]
  },
  {
   "cell_type": "code",
   "execution_count": 11,
   "id": "b3dd3ae3",
   "metadata": {},
   "outputs": [
    {
     "data": {
      "text/html": [
       "<div>\n",
       "<style scoped>\n",
       "    .dataframe tbody tr th:only-of-type {\n",
       "        vertical-align: middle;\n",
       "    }\n",
       "\n",
       "    .dataframe tbody tr th {\n",
       "        vertical-align: top;\n",
       "    }\n",
       "\n",
       "    .dataframe thead th {\n",
       "        text-align: right;\n",
       "    }\n",
       "</style>\n",
       "<table border=\"1\" class=\"dataframe\">\n",
       "  <thead>\n",
       "    <tr style=\"text-align: right;\">\n",
       "      <th></th>\n",
       "      <th>Name</th>\n",
       "      <th>Gender</th>\n",
       "      <th>Age</th>\n",
       "      <th>Height (cm)</th>\n",
       "      <th>Weight (kg)</th>\n",
       "      <th>City</th>\n",
       "    </tr>\n",
       "  </thead>\n",
       "  <tbody>\n",
       "    <tr>\n",
       "      <th>5</th>\n",
       "      <td>Frank</td>\n",
       "      <td>Male</td>\n",
       "      <td>40</td>\n",
       "      <td>190</td>\n",
       "      <td>85</td>\n",
       "      <td>Houston</td>\n",
       "    </tr>\n",
       "  </tbody>\n",
       "</table>\n",
       "</div>"
      ],
      "text/plain": [
       "    Name Gender  Age  Height (cm)  Weight (kg)     City\n",
       "5  Frank   Male   40          190           85  Houston"
      ]
     },
     "execution_count": 11,
     "metadata": {},
     "output_type": "execute_result"
    }
   ],
   "source": [
    "data.nlargest(1,'Height (cm)')"
   ]
  },
  {
   "cell_type": "markdown",
   "id": "0f74e443",
   "metadata": {},
   "source": [
    "## Question-6"
   ]
  },
  {
   "cell_type": "markdown",
   "id": "59cba2da",
   "metadata": {},
   "source": [
    "##  Create a new column in the DataFrame called \"BMI\" that calculates the body mass index of each person. BMI iscalculated as weight (kg) divided by height (m) squared. Print the DataFrame with the new column."
   ]
  },
  {
   "cell_type": "code",
   "execution_count": 12,
   "id": "9ba84745",
   "metadata": {},
   "outputs": [
    {
     "name": "stdout",
     "output_type": "stream",
     "text": [
      "      Name  Gender  Age  Height (cm)  Weight (kg)         City       BMI\n",
      "0    Alice  Female   25          165           58     New York  0.002130\n",
      "1      Bob    Male   30          180           80  Los Angeles  0.002469\n",
      "2  Charlie    Male   35          175           70      Chicago  0.002286\n",
      "3    Diana  Female   28          170           65        Miami  0.002249\n",
      "4      Eva  Female   27          175           60     New York  0.001959\n",
      "5    Frank    Male   40          190           85      Houston  0.002355\n",
      "6    Grace  Female   32          168           55      Chicago  0.001949\n",
      "7    Henry    Male   45          175           75  Los Angeles  0.002449\n",
      "8      Ivy  Female   26          172           63        Miami  0.002130\n",
      "9     Jack    Male   28          180           78     New York  0.002407\n"
     ]
    }
   ],
   "source": [
    "df=pd.DataFrame (data)\n",
    "data['BMI'] =data['Weight (kg)'] / (data['Height (cm)'] **2)\n",
    "print(data)"
   ]
  },
  {
   "cell_type": "code",
   "execution_count": 13,
   "id": "3c25f825",
   "metadata": {},
   "outputs": [
    {
     "data": {
      "text/html": [
       "<div>\n",
       "<style scoped>\n",
       "    .dataframe tbody tr th:only-of-type {\n",
       "        vertical-align: middle;\n",
       "    }\n",
       "\n",
       "    .dataframe tbody tr th {\n",
       "        vertical-align: top;\n",
       "    }\n",
       "\n",
       "    .dataframe thead th {\n",
       "        text-align: right;\n",
       "    }\n",
       "</style>\n",
       "<table border=\"1\" class=\"dataframe\">\n",
       "  <thead>\n",
       "    <tr style=\"text-align: right;\">\n",
       "      <th></th>\n",
       "      <th>Name</th>\n",
       "      <th>Gender</th>\n",
       "      <th>Age</th>\n",
       "      <th>Height (cm)</th>\n",
       "      <th>Weight (kg)</th>\n",
       "      <th>City</th>\n",
       "      <th>BMI</th>\n",
       "    </tr>\n",
       "  </thead>\n",
       "  <tbody>\n",
       "    <tr>\n",
       "      <th>0</th>\n",
       "      <td>Alice</td>\n",
       "      <td>Female</td>\n",
       "      <td>25</td>\n",
       "      <td>165</td>\n",
       "      <td>58</td>\n",
       "      <td>New York</td>\n",
       "      <td>0.002130</td>\n",
       "    </tr>\n",
       "    <tr>\n",
       "      <th>1</th>\n",
       "      <td>Bob</td>\n",
       "      <td>Male</td>\n",
       "      <td>30</td>\n",
       "      <td>180</td>\n",
       "      <td>80</td>\n",
       "      <td>Los Angeles</td>\n",
       "      <td>0.002469</td>\n",
       "    </tr>\n",
       "    <tr>\n",
       "      <th>2</th>\n",
       "      <td>Charlie</td>\n",
       "      <td>Male</td>\n",
       "      <td>35</td>\n",
       "      <td>175</td>\n",
       "      <td>70</td>\n",
       "      <td>Chicago</td>\n",
       "      <td>0.002286</td>\n",
       "    </tr>\n",
       "    <tr>\n",
       "      <th>3</th>\n",
       "      <td>Diana</td>\n",
       "      <td>Female</td>\n",
       "      <td>28</td>\n",
       "      <td>170</td>\n",
       "      <td>65</td>\n",
       "      <td>Miami</td>\n",
       "      <td>0.002249</td>\n",
       "    </tr>\n",
       "    <tr>\n",
       "      <th>4</th>\n",
       "      <td>Eva</td>\n",
       "      <td>Female</td>\n",
       "      <td>27</td>\n",
       "      <td>175</td>\n",
       "      <td>60</td>\n",
       "      <td>New York</td>\n",
       "      <td>0.001959</td>\n",
       "    </tr>\n",
       "    <tr>\n",
       "      <th>5</th>\n",
       "      <td>Frank</td>\n",
       "      <td>Male</td>\n",
       "      <td>40</td>\n",
       "      <td>190</td>\n",
       "      <td>85</td>\n",
       "      <td>Houston</td>\n",
       "      <td>0.002355</td>\n",
       "    </tr>\n",
       "    <tr>\n",
       "      <th>6</th>\n",
       "      <td>Grace</td>\n",
       "      <td>Female</td>\n",
       "      <td>32</td>\n",
       "      <td>168</td>\n",
       "      <td>55</td>\n",
       "      <td>Chicago</td>\n",
       "      <td>0.001949</td>\n",
       "    </tr>\n",
       "    <tr>\n",
       "      <th>7</th>\n",
       "      <td>Henry</td>\n",
       "      <td>Male</td>\n",
       "      <td>45</td>\n",
       "      <td>175</td>\n",
       "      <td>75</td>\n",
       "      <td>Los Angeles</td>\n",
       "      <td>0.002449</td>\n",
       "    </tr>\n",
       "    <tr>\n",
       "      <th>8</th>\n",
       "      <td>Ivy</td>\n",
       "      <td>Female</td>\n",
       "      <td>26</td>\n",
       "      <td>172</td>\n",
       "      <td>63</td>\n",
       "      <td>Miami</td>\n",
       "      <td>0.002130</td>\n",
       "    </tr>\n",
       "    <tr>\n",
       "      <th>9</th>\n",
       "      <td>Jack</td>\n",
       "      <td>Male</td>\n",
       "      <td>28</td>\n",
       "      <td>180</td>\n",
       "      <td>78</td>\n",
       "      <td>New York</td>\n",
       "      <td>0.002407</td>\n",
       "    </tr>\n",
       "  </tbody>\n",
       "</table>\n",
       "</div>"
      ],
      "text/plain": [
       "      Name  Gender  Age  Height (cm)  Weight (kg)         City       BMI\n",
       "0    Alice  Female   25          165           58     New York  0.002130\n",
       "1      Bob    Male   30          180           80  Los Angeles  0.002469\n",
       "2  Charlie    Male   35          175           70      Chicago  0.002286\n",
       "3    Diana  Female   28          170           65        Miami  0.002249\n",
       "4      Eva  Female   27          175           60     New York  0.001959\n",
       "5    Frank    Male   40          190           85      Houston  0.002355\n",
       "6    Grace  Female   32          168           55      Chicago  0.001949\n",
       "7    Henry    Male   45          175           75  Los Angeles  0.002449\n",
       "8      Ivy  Female   26          172           63        Miami  0.002130\n",
       "9     Jack    Male   28          180           78     New York  0.002407"
      ]
     },
     "execution_count": 13,
     "metadata": {},
     "output_type": "execute_result"
    }
   ],
   "source": [
    "df"
   ]
  },
  {
   "cell_type": "markdown",
   "id": "a46077f8",
   "metadata": {},
   "source": [
    "## Question-7"
   ]
  },
  {
   "cell_type": "markdown",
   "id": "829f5b00",
   "metadata": {},
   "source": [
    "## Group the data by gender and print the average age, height, and weight of males and females separately."
   ]
  },
  {
   "cell_type": "code",
   "execution_count": 14,
   "id": "81d9a56b",
   "metadata": {},
   "outputs": [],
   "source": [
    "grouped_data = df.groupby('Gender').mean()"
   ]
  },
  {
   "cell_type": "code",
   "execution_count": 15,
   "id": "c879647c",
   "metadata": {},
   "outputs": [
    {
     "data": {
      "text/html": [
       "<div>\n",
       "<style scoped>\n",
       "    .dataframe tbody tr th:only-of-type {\n",
       "        vertical-align: middle;\n",
       "    }\n",
       "\n",
       "    .dataframe tbody tr th {\n",
       "        vertical-align: top;\n",
       "    }\n",
       "\n",
       "    .dataframe thead th {\n",
       "        text-align: right;\n",
       "    }\n",
       "</style>\n",
       "<table border=\"1\" class=\"dataframe\">\n",
       "  <thead>\n",
       "    <tr style=\"text-align: right;\">\n",
       "      <th></th>\n",
       "      <th>Age</th>\n",
       "      <th>Height (cm)</th>\n",
       "      <th>Weight (kg)</th>\n",
       "      <th>BMI</th>\n",
       "    </tr>\n",
       "    <tr>\n",
       "      <th>Gender</th>\n",
       "      <th></th>\n",
       "      <th></th>\n",
       "      <th></th>\n",
       "      <th></th>\n",
       "    </tr>\n",
       "  </thead>\n",
       "  <tbody>\n",
       "    <tr>\n",
       "      <th>Female</th>\n",
       "      <td>27.6</td>\n",
       "      <td>170.0</td>\n",
       "      <td>60.2</td>\n",
       "      <td>0.002083</td>\n",
       "    </tr>\n",
       "    <tr>\n",
       "      <th>Male</th>\n",
       "      <td>35.6</td>\n",
       "      <td>180.0</td>\n",
       "      <td>77.6</td>\n",
       "      <td>0.002393</td>\n",
       "    </tr>\n",
       "  </tbody>\n",
       "</table>\n",
       "</div>"
      ],
      "text/plain": [
       "         Age  Height (cm)  Weight (kg)       BMI\n",
       "Gender                                          \n",
       "Female  27.6        170.0         60.2  0.002083\n",
       "Male    35.6        180.0         77.6  0.002393"
      ]
     },
     "execution_count": 15,
     "metadata": {},
     "output_type": "execute_result"
    }
   ],
   "source": [
    "grouped_data"
   ]
  },
  {
   "cell_type": "code",
   "execution_count": 16,
   "id": "0039bdfe",
   "metadata": {},
   "outputs": [
    {
     "name": "stdout",
     "output_type": "stream",
     "text": [
      "         Age  Height (cm)  Weight (kg)\n",
      "Gender                                \n",
      "Female  27.6        170.0         60.2\n",
      "Male    35.6        180.0         77.6\n"
     ]
    }
   ],
   "source": [
    "print(grouped_data[['Age','Height (cm)','Weight (kg)']])"
   ]
  },
  {
   "cell_type": "markdown",
   "id": "d82dd7dc",
   "metadata": {},
   "source": [
    "## Question-8"
   ]
  },
  {
   "cell_type": "markdown",
   "id": "93efdb56",
   "metadata": {},
   "source": [
    "## Sort the data by age in ascending order and print the first 3 rows of the sorted DataFrame."
   ]
  },
  {
   "cell_type": "code",
   "execution_count": 17,
   "id": "092277b6",
   "metadata": {},
   "outputs": [
    {
     "data": {
      "text/html": [
       "<div>\n",
       "<style scoped>\n",
       "    .dataframe tbody tr th:only-of-type {\n",
       "        vertical-align: middle;\n",
       "    }\n",
       "\n",
       "    .dataframe tbody tr th {\n",
       "        vertical-align: top;\n",
       "    }\n",
       "\n",
       "    .dataframe thead th {\n",
       "        text-align: right;\n",
       "    }\n",
       "</style>\n",
       "<table border=\"1\" class=\"dataframe\">\n",
       "  <thead>\n",
       "    <tr style=\"text-align: right;\">\n",
       "      <th></th>\n",
       "      <th>Name</th>\n",
       "      <th>Gender</th>\n",
       "      <th>Age</th>\n",
       "      <th>Height (cm)</th>\n",
       "      <th>Weight (kg)</th>\n",
       "      <th>City</th>\n",
       "      <th>BMI</th>\n",
       "    </tr>\n",
       "  </thead>\n",
       "  <tbody>\n",
       "    <tr>\n",
       "      <th>7</th>\n",
       "      <td>Henry</td>\n",
       "      <td>Male</td>\n",
       "      <td>45</td>\n",
       "      <td>175</td>\n",
       "      <td>75</td>\n",
       "      <td>Los Angeles</td>\n",
       "      <td>0.002449</td>\n",
       "    </tr>\n",
       "    <tr>\n",
       "      <th>5</th>\n",
       "      <td>Frank</td>\n",
       "      <td>Male</td>\n",
       "      <td>40</td>\n",
       "      <td>190</td>\n",
       "      <td>85</td>\n",
       "      <td>Houston</td>\n",
       "      <td>0.002355</td>\n",
       "    </tr>\n",
       "    <tr>\n",
       "      <th>2</th>\n",
       "      <td>Charlie</td>\n",
       "      <td>Male</td>\n",
       "      <td>35</td>\n",
       "      <td>175</td>\n",
       "      <td>70</td>\n",
       "      <td>Chicago</td>\n",
       "      <td>0.002286</td>\n",
       "    </tr>\n",
       "  </tbody>\n",
       "</table>\n",
       "</div>"
      ],
      "text/plain": [
       "      Name Gender  Age  Height (cm)  Weight (kg)         City       BMI\n",
       "7    Henry   Male   45          175           75  Los Angeles  0.002449\n",
       "5    Frank   Male   40          190           85      Houston  0.002355\n",
       "2  Charlie   Male   35          175           70      Chicago  0.002286"
      ]
     },
     "execution_count": 17,
     "metadata": {},
     "output_type": "execute_result"
    }
   ],
   "source": [
    "df.sort_values('Age',ascending=False).head(3)"
   ]
  },
  {
   "cell_type": "markdown",
   "id": "6e039c57",
   "metadata": {},
   "source": [
    "## Question-9"
   ]
  },
  {
   "cell_type": "markdown",
   "id": "7fa7b706",
   "metadata": {},
   "source": [
    "## Filter the data to only include people who live in New York and print the resulting DataFrame"
   ]
  },
  {
   "cell_type": "code",
   "execution_count": 18,
   "id": "2a75873e",
   "metadata": {},
   "outputs": [
    {
     "data": {
      "text/html": [
       "<div>\n",
       "<style scoped>\n",
       "    .dataframe tbody tr th:only-of-type {\n",
       "        vertical-align: middle;\n",
       "    }\n",
       "\n",
       "    .dataframe tbody tr th {\n",
       "        vertical-align: top;\n",
       "    }\n",
       "\n",
       "    .dataframe thead th {\n",
       "        text-align: right;\n",
       "    }\n",
       "</style>\n",
       "<table border=\"1\" class=\"dataframe\">\n",
       "  <thead>\n",
       "    <tr style=\"text-align: right;\">\n",
       "      <th></th>\n",
       "      <th>Name</th>\n",
       "      <th>Gender</th>\n",
       "      <th>Age</th>\n",
       "      <th>Height (cm)</th>\n",
       "      <th>Weight (kg)</th>\n",
       "      <th>City</th>\n",
       "      <th>BMI</th>\n",
       "    </tr>\n",
       "  </thead>\n",
       "  <tbody>\n",
       "    <tr>\n",
       "      <th>0</th>\n",
       "      <td>Alice</td>\n",
       "      <td>Female</td>\n",
       "      <td>25</td>\n",
       "      <td>165</td>\n",
       "      <td>58</td>\n",
       "      <td>New York</td>\n",
       "      <td>0.002130</td>\n",
       "    </tr>\n",
       "    <tr>\n",
       "      <th>1</th>\n",
       "      <td>Bob</td>\n",
       "      <td>Male</td>\n",
       "      <td>30</td>\n",
       "      <td>180</td>\n",
       "      <td>80</td>\n",
       "      <td>Los Angeles</td>\n",
       "      <td>0.002469</td>\n",
       "    </tr>\n",
       "    <tr>\n",
       "      <th>2</th>\n",
       "      <td>Charlie</td>\n",
       "      <td>Male</td>\n",
       "      <td>35</td>\n",
       "      <td>175</td>\n",
       "      <td>70</td>\n",
       "      <td>Chicago</td>\n",
       "      <td>0.002286</td>\n",
       "    </tr>\n",
       "    <tr>\n",
       "      <th>3</th>\n",
       "      <td>Diana</td>\n",
       "      <td>Female</td>\n",
       "      <td>28</td>\n",
       "      <td>170</td>\n",
       "      <td>65</td>\n",
       "      <td>Miami</td>\n",
       "      <td>0.002249</td>\n",
       "    </tr>\n",
       "    <tr>\n",
       "      <th>4</th>\n",
       "      <td>Eva</td>\n",
       "      <td>Female</td>\n",
       "      <td>27</td>\n",
       "      <td>175</td>\n",
       "      <td>60</td>\n",
       "      <td>New York</td>\n",
       "      <td>0.001959</td>\n",
       "    </tr>\n",
       "    <tr>\n",
       "      <th>5</th>\n",
       "      <td>Frank</td>\n",
       "      <td>Male</td>\n",
       "      <td>40</td>\n",
       "      <td>190</td>\n",
       "      <td>85</td>\n",
       "      <td>Houston</td>\n",
       "      <td>0.002355</td>\n",
       "    </tr>\n",
       "    <tr>\n",
       "      <th>6</th>\n",
       "      <td>Grace</td>\n",
       "      <td>Female</td>\n",
       "      <td>32</td>\n",
       "      <td>168</td>\n",
       "      <td>55</td>\n",
       "      <td>Chicago</td>\n",
       "      <td>0.001949</td>\n",
       "    </tr>\n",
       "    <tr>\n",
       "      <th>7</th>\n",
       "      <td>Henry</td>\n",
       "      <td>Male</td>\n",
       "      <td>45</td>\n",
       "      <td>175</td>\n",
       "      <td>75</td>\n",
       "      <td>Los Angeles</td>\n",
       "      <td>0.002449</td>\n",
       "    </tr>\n",
       "    <tr>\n",
       "      <th>8</th>\n",
       "      <td>Ivy</td>\n",
       "      <td>Female</td>\n",
       "      <td>26</td>\n",
       "      <td>172</td>\n",
       "      <td>63</td>\n",
       "      <td>Miami</td>\n",
       "      <td>0.002130</td>\n",
       "    </tr>\n",
       "    <tr>\n",
       "      <th>9</th>\n",
       "      <td>Jack</td>\n",
       "      <td>Male</td>\n",
       "      <td>28</td>\n",
       "      <td>180</td>\n",
       "      <td>78</td>\n",
       "      <td>New York</td>\n",
       "      <td>0.002407</td>\n",
       "    </tr>\n",
       "  </tbody>\n",
       "</table>\n",
       "</div>"
      ],
      "text/plain": [
       "      Name  Gender  Age  Height (cm)  Weight (kg)         City       BMI\n",
       "0    Alice  Female   25          165           58     New York  0.002130\n",
       "1      Bob    Male   30          180           80  Los Angeles  0.002469\n",
       "2  Charlie    Male   35          175           70      Chicago  0.002286\n",
       "3    Diana  Female   28          170           65        Miami  0.002249\n",
       "4      Eva  Female   27          175           60     New York  0.001959\n",
       "5    Frank    Male   40          190           85      Houston  0.002355\n",
       "6    Grace  Female   32          168           55      Chicago  0.001949\n",
       "7    Henry    Male   45          175           75  Los Angeles  0.002449\n",
       "8      Ivy  Female   26          172           63        Miami  0.002130\n",
       "9     Jack    Male   28          180           78     New York  0.002407"
      ]
     },
     "execution_count": 18,
     "metadata": {},
     "output_type": "execute_result"
    }
   ],
   "source": [
    "df"
   ]
  },
  {
   "cell_type": "code",
   "execution_count": 19,
   "id": "3ee8d443",
   "metadata": {},
   "outputs": [],
   "source": [
    "filtered_df = df[df['City'] == 'New York']"
   ]
  },
  {
   "cell_type": "code",
   "execution_count": 20,
   "id": "55b63a9f",
   "metadata": {},
   "outputs": [
    {
     "data": {
      "text/html": [
       "<div>\n",
       "<style scoped>\n",
       "    .dataframe tbody tr th:only-of-type {\n",
       "        vertical-align: middle;\n",
       "    }\n",
       "\n",
       "    .dataframe tbody tr th {\n",
       "        vertical-align: top;\n",
       "    }\n",
       "\n",
       "    .dataframe thead th {\n",
       "        text-align: right;\n",
       "    }\n",
       "</style>\n",
       "<table border=\"1\" class=\"dataframe\">\n",
       "  <thead>\n",
       "    <tr style=\"text-align: right;\">\n",
       "      <th></th>\n",
       "      <th>Name</th>\n",
       "      <th>Gender</th>\n",
       "      <th>Age</th>\n",
       "      <th>Height (cm)</th>\n",
       "      <th>Weight (kg)</th>\n",
       "      <th>City</th>\n",
       "      <th>BMI</th>\n",
       "    </tr>\n",
       "  </thead>\n",
       "  <tbody>\n",
       "    <tr>\n",
       "      <th>0</th>\n",
       "      <td>Alice</td>\n",
       "      <td>Female</td>\n",
       "      <td>25</td>\n",
       "      <td>165</td>\n",
       "      <td>58</td>\n",
       "      <td>New York</td>\n",
       "      <td>0.002130</td>\n",
       "    </tr>\n",
       "    <tr>\n",
       "      <th>4</th>\n",
       "      <td>Eva</td>\n",
       "      <td>Female</td>\n",
       "      <td>27</td>\n",
       "      <td>175</td>\n",
       "      <td>60</td>\n",
       "      <td>New York</td>\n",
       "      <td>0.001959</td>\n",
       "    </tr>\n",
       "    <tr>\n",
       "      <th>9</th>\n",
       "      <td>Jack</td>\n",
       "      <td>Male</td>\n",
       "      <td>28</td>\n",
       "      <td>180</td>\n",
       "      <td>78</td>\n",
       "      <td>New York</td>\n",
       "      <td>0.002407</td>\n",
       "    </tr>\n",
       "  </tbody>\n",
       "</table>\n",
       "</div>"
      ],
      "text/plain": [
       "    Name  Gender  Age  Height (cm)  Weight (kg)      City       BMI\n",
       "0  Alice  Female   25          165           58  New York  0.002130\n",
       "4    Eva  Female   27          175           60  New York  0.001959\n",
       "9   Jack    Male   28          180           78  New York  0.002407"
      ]
     },
     "execution_count": 20,
     "metadata": {},
     "output_type": "execute_result"
    }
   ],
   "source": [
    "filtered_df"
   ]
  },
  {
   "cell_type": "code",
   "execution_count": null,
   "id": "aa61f22b",
   "metadata": {},
   "outputs": [],
   "source": []
  }
 ],
 "metadata": {
  "kernelspec": {
   "display_name": "Python 3 (ipykernel)",
   "language": "python",
   "name": "python3"
  },
  "language_info": {
   "codemirror_mode": {
    "name": "ipython",
    "version": 3
   },
   "file_extension": ".py",
   "mimetype": "text/x-python",
   "name": "python",
   "nbconvert_exporter": "python",
   "pygments_lexer": "ipython3",
   "version": "3.10.8"
  }
 },
 "nbformat": 4,
 "nbformat_minor": 5
}
