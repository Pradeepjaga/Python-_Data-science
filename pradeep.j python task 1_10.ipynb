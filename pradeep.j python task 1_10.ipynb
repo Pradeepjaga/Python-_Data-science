{
 "cells": [
  {
   "cell_type": "markdown",
   "id": "9b101fec",
   "metadata": {},
   "source": [
    "# task 1-10"
   ]
  },
  {
   "cell_type": "markdown",
   "id": "2aca16cd",
   "metadata": {},
   "source": [
    "## Qst-1"
   ]
  },
  {
   "cell_type": "markdown",
   "id": "cefbcb95",
   "metadata": {},
   "source": [
    "## create a variable x and assign it the value 5.print the value of x."
   ]
  },
  {
   "cell_type": "code",
   "execution_count": 3,
   "id": "ade02495",
   "metadata": {},
   "outputs": [
    {
     "name": "stdout",
     "output_type": "stream",
     "text": [
      "The value of5\n"
     ]
    }
   ],
   "source": [
    "x=5\n",
    "print(f'The value of{x}')"
   ]
  },
  {
   "cell_type": "markdown",
   "id": "f20da0d7",
   "metadata": {},
   "source": [
    "# Qst-2"
   ]
  },
  {
   "cell_type": "markdown",
   "id": "b24f095b",
   "metadata": {},
   "source": [
    "## create two variables a and b, and assign them values 3 and 2 respectively. add a and b together and print the result"
   ]
  },
  {
   "cell_type": "code",
   "execution_count": 4,
   "id": "be7e8a82",
   "metadata": {},
   "outputs": [],
   "source": [
    "a=3\n",
    "b=2"
   ]
  },
  {
   "cell_type": "code",
   "execution_count": 5,
   "id": "e8e029e6",
   "metadata": {},
   "outputs": [
    {
     "name": "stdout",
     "output_type": "stream",
     "text": [
      "The added value of a and b is 5\n"
     ]
    }
   ],
   "source": [
    "c=a+b\n",
    "print(f'The added value of a and b is {c}')"
   ]
  },
  {
   "cell_type": "markdown",
   "id": "c62d6740",
   "metadata": {},
   "source": [
    "## Qst-3"
   ]
  },
  {
   "cell_type": "markdown",
   "id": "22709770",
   "metadata": {},
   "source": [
    "# create a variable pi and assign it the value 3.14159.print the value of pi."
   ]
  },
  {
   "cell_type": "code",
   "execution_count": 6,
   "id": "e9428802",
   "metadata": {},
   "outputs": [
    {
     "name": "stdout",
     "output_type": "stream",
     "text": [
      "The value of3.14159\n"
     ]
    }
   ],
   "source": [
    "pi=3.14159\n",
    "print(f'The value of{pi}')"
   ]
  },
  {
   "cell_type": "markdown",
   "id": "6d69966b",
   "metadata": {},
   "source": [
    "## Qst-4"
   ]
  },
  {
   "cell_type": "markdown",
   "id": "d5e21bbb",
   "metadata": {},
   "source": [
    "### create a variable radius and assign it the value 5.                                                                                                 Calculate the area of a circle with radius radius using the formula pi * radius ** 2 and print the result 5.\n",
    "     "
   ]
  },
  {
   "cell_type": "code",
   "execution_count": 7,
   "id": "e7913c50",
   "metadata": {},
   "outputs": [],
   "source": [
    "r=5\n",
    "pi=3.14159\n",
    "A=pi*r**2"
   ]
  },
  {
   "cell_type": "code",
   "execution_count": 8,
   "id": "899d9520",
   "metadata": {},
   "outputs": [
    {
     "name": "stdout",
     "output_type": "stream",
     "text": [
      "The result of area of a circle with radius 78.53975\n"
     ]
    }
   ],
   "source": [
    "print (f'The result of area of a circle with radius {A}')"
   ]
  },
  {
   "cell_type": "markdown",
   "id": "26b4e08f",
   "metadata": {},
   "source": [
    "## QST-5"
   ]
  },
  {
   "cell_type": "markdown",
   "id": "69b7a5da",
   "metadata": {},
   "source": [
    "### Create a variable name and assign it your name as a string. print a greeting using your name,such as \"hello,[name]!\""
   ]
  },
  {
   "cell_type": "code",
   "execution_count": 9,
   "id": "d07bb11a",
   "metadata": {},
   "outputs": [
    {
     "name": "stdout",
     "output_type": "stream",
     "text": [
      "hello['pradeep']\n"
     ]
    }
   ],
   "source": [
    "a=['pradeep']\n",
    "print(f'hello{a}')"
   ]
  },
  {
   "cell_type": "markdown",
   "id": "1bead00e",
   "metadata": {},
   "source": [
    "## QST-6"
   ]
  },
  {
   "cell_type": "markdown",
   "id": "ec6b329a",
   "metadata": {},
   "source": [
    "### create a variable age and assign it your age as an integer.print a sentence that includes your age,such as \"I am [age] years old.\""
   ]
  },
  {
   "cell_type": "code",
   "execution_count": 10,
   "id": "63bd4ae4",
   "metadata": {},
   "outputs": [
    {
     "name": "stdout",
     "output_type": "stream",
     "text": [
      "I am pradeep 25 years old\n"
     ]
    }
   ],
   "source": [
    "Age=25\n",
    "print(f'I am pradeep {Age} years old')"
   ]
  },
  {
   "cell_type": "markdown",
   "id": "916a86f2",
   "metadata": {},
   "source": [
    "## QST-7"
   ]
  },
  {
   "cell_type": "markdown",
   "id": "94b37a34",
   "metadata": {},
   "source": [
    "### Create a variable height and assign it your height in meters as a float. print a sentences that includes your height, such as \" I am [height] meters tall.\""
   ]
  },
  {
   "cell_type": "code",
   "execution_count": 11,
   "id": "3ace640b",
   "metadata": {},
   "outputs": [
    {
     "name": "stdout",
     "output_type": "stream",
     "text": [
      "I am 174.0 meters tall\n"
     ]
    }
   ],
   "source": [
    "H=float(174)\n",
    "print(f'I am {H} meters tall')"
   ]
  },
  {
   "cell_type": "markdown",
   "id": "16b98ee5",
   "metadata": {},
   "source": [
    "## QST-8"
   ]
  },
  {
   "cell_type": "markdown",
   "id": "4d96df03",
   "metadata": {},
   "source": [
    "### Create a variable sentence and assign it a sentence as a string. print the first letter of the sentence."
   ]
  },
  {
   "cell_type": "code",
   "execution_count": 12,
   "id": "50c606c8",
   "metadata": {},
   "outputs": [
    {
     "name": "stdout",
     "output_type": "stream",
     "text": [
      "I\n"
     ]
    }
   ],
   "source": [
    "a='I am pradeep'\n",
    "print(a[0])"
   ]
  },
  {
   "cell_type": "markdown",
   "id": "b6e61325",
   "metadata": {},
   "source": [
    "## QST-9"
   ]
  },
  {
   "cell_type": "markdown",
   "id": "810e121f",
   "metadata": {},
   "source": [
    "### Create a variable sentence and assign it a sentence as a string . print the last letter of the sentence."
   ]
  },
  {
   "cell_type": "code",
   "execution_count": 13,
   "id": "80e2d265",
   "metadata": {},
   "outputs": [
    {
     "name": "stdout",
     "output_type": "stream",
     "text": [
      "p\n"
     ]
    }
   ],
   "source": [
    "a='I am pradeep'\n",
    "print(a[11])"
   ]
  },
  {
   "cell_type": "markdown",
   "id": "bf535265",
   "metadata": {},
   "source": [
    "## QST-10"
   ]
  },
  {
   "cell_type": "markdown",
   "id": "7bb2f8e3",
   "metadata": {},
   "source": [
    "### Create a variable sentence and assign it a sentence as a string. print the length of the sentence."
   ]
  },
  {
   "cell_type": "code",
   "execution_count": 14,
   "id": "b9bd586b",
   "metadata": {},
   "outputs": [
    {
     "name": "stdout",
     "output_type": "stream",
     "text": [
      "12\n"
     ]
    }
   ],
   "source": [
    "a='I am pradeep'\n",
    "print(len(a))"
   ]
  },
  {
   "cell_type": "code",
   "execution_count": null,
   "id": "0c612f2b",
   "metadata": {},
   "outputs": [],
   "source": []
  }
 ],
 "metadata": {
  "kernelspec": {
   "display_name": "Python 3 (ipykernel)",
   "language": "python",
   "name": "python3"
  },
  "language_info": {
   "codemirror_mode": {
    "name": "ipython",
    "version": 3
   },
   "file_extension": ".py",
   "mimetype": "text/x-python",
   "name": "python",
   "nbconvert_exporter": "python",
   "pygments_lexer": "ipython3",
   "version": "3.10.8"
  }
 },
 "nbformat": 4,
 "nbformat_minor": 5
}
